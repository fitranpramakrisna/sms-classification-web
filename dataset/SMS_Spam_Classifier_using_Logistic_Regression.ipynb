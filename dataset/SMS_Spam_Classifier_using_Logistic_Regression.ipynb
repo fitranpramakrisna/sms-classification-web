{
  "cells": [
    {
      "cell_type": "markdown",
      "metadata": {
        "id": "0f_dv7lQz5JZ"
      },
      "source": [
        "# Tujuan dari pemodelan kali ini adalah memprediksi sebuah SMS apakah SPAM atau BUKAN SPAM"
      ]
    },
    {
      "cell_type": "markdown",
      "metadata": {
        "id": "FL2xX5T3wrPC"
      },
      "source": [
        "## Sumber Dataset yang digunakan :\n",
        "### `Rahmi, F. and Wibisono, Y.  (2016). Aplikasi SMS Spam Filtering pada Android menggunakan Naive Bayes, Unpublished manuscript`"
      ]
    },
    {
      "cell_type": "markdown",
      "metadata": {
        "id": "sD21zOiswWtV"
      },
      "source": [
        "## Unduh terlebih dahulu tools untuk NLTK"
      ]
    },
    {
      "cell_type": "code",
      "execution_count": 25,
      "metadata": {
        "colab": {
          "base_uri": "https://localhost:8080/"
        },
        "id": "GrTrzhPeswBP",
        "outputId": "6a620340-052d-43c3-a5e3-1f256e039cf6"
      },
      "outputs": [
        {
          "name": "stderr",
          "output_type": "stream",
          "text": [
            "[nltk_data] Downloading package stopwords to\n",
            "[nltk_data]     C:\\Users\\fitra\\AppData\\Roaming\\nltk_data...\n",
            "[nltk_data]   Package stopwords is already up-to-date!\n",
            "[nltk_data] Downloading package punkt to\n",
            "[nltk_data]     C:\\Users\\fitra\\AppData\\Roaming\\nltk_data...\n",
            "[nltk_data]   Package punkt is already up-to-date!\n"
          ]
        },
        {
          "data": {
            "text/plain": [
              "True"
            ]
          },
          "execution_count": 25,
          "metadata": {},
          "output_type": "execute_result"
        }
      ],
      "source": [
        "import nltk\n",
        "nltk.download('stopwords')\n",
        "nltk.download('punkt')"
      ]
    },
    {
      "cell_type": "markdown",
      "metadata": {
        "id": "RcVWjDs0wgTc"
      },
      "source": [
        "## Import tools untuk NLTK"
      ]
    },
    {
      "cell_type": "code",
      "execution_count": 26,
      "metadata": {
        "id": "LO_kAJHqtPoI"
      },
      "outputs": [],
      "source": [
        "from nltk.tokenize import word_tokenize\n",
        "from nltk.corpus import stopwords\n",
        "from string import punctuation\n",
        "\n",
        "sw_indo = stopwords.words(\"indonesian\") + list(punctuation)"
      ]
    },
    {
      "cell_type": "markdown",
      "metadata": {
        "id": "2gbGG1lbwnsd"
      },
      "source": [
        "## Import Data"
      ]
    },
    {
      "cell_type": "code",
      "execution_count": 27,
      "metadata": {},
      "outputs": [],
      "source": [
        "import pandas as pd\n",
        "df = pd.read_excel('D:\\LAPTOP LAWAS\\project flask\\TA - SMS CLASSIFIER\\dataset\\spam.xlsx')"
      ]
    },
    {
      "cell_type": "code",
      "execution_count": null,
      "metadata": {
        "id": "mezEdIRntaZk"
      },
      "outputs": [],
      "source": [
        "df = pd.read_csv(io.BytesIO(uploaded['spam.csv']))"
      ]
    },
    {
      "cell_type": "code",
      "execution_count": 20,
      "metadata": {},
      "outputs": [
        {
          "data": {
            "text/html": [
              "<div>\n",
              "<style scoped>\n",
              "    .dataframe tbody tr th:only-of-type {\n",
              "        vertical-align: middle;\n",
              "    }\n",
              "\n",
              "    .dataframe tbody tr th {\n",
              "        vertical-align: top;\n",
              "    }\n",
              "\n",
              "    .dataframe thead th {\n",
              "        text-align: right;\n",
              "    }\n",
              "</style>\n",
              "<table border=\"1\" class=\"dataframe\">\n",
              "  <thead>\n",
              "    <tr style=\"text-align: right;\">\n",
              "      <th></th>\n",
              "      <th>Teks</th>\n",
              "      <th>label</th>\n",
              "    </tr>\n",
              "  </thead>\n",
              "  <tbody>\n",
              "    <tr>\n",
              "      <th>0</th>\n",
              "      <td>[PROMO] Beli paket Flash mulai 1GB di MY TELKO...</td>\n",
              "      <td>1</td>\n",
              "    </tr>\n",
              "    <tr>\n",
              "      <th>1</th>\n",
              "      <td>2.5 GB/30 hari hanya Rp 35 Ribu Spesial buat A...</td>\n",
              "      <td>1</td>\n",
              "    </tr>\n",
              "    <tr>\n",
              "      <th>2</th>\n",
              "      <td>2016-07-08 11:47:11.Plg Yth, sisa kuota Flash ...</td>\n",
              "      <td>1</td>\n",
              "    </tr>\n",
              "    <tr>\n",
              "      <th>3</th>\n",
              "      <td>2016-08-07 11:29:47.Plg Yth, sisa kuota Flash ...</td>\n",
              "      <td>1</td>\n",
              "    </tr>\n",
              "    <tr>\n",
              "      <th>4</th>\n",
              "      <td>4.5GB/30 hari hanya Rp 55 Ribu Spesial buat an...</td>\n",
              "      <td>1</td>\n",
              "    </tr>\n",
              "  </tbody>\n",
              "</table>\n",
              "</div>"
            ],
            "text/plain": [
              "                                                Teks  label\n",
              "0  [PROMO] Beli paket Flash mulai 1GB di MY TELKO...      1\n",
              "1  2.5 GB/30 hari hanya Rp 35 Ribu Spesial buat A...      1\n",
              "2  2016-07-08 11:47:11.Plg Yth, sisa kuota Flash ...      1\n",
              "3  2016-08-07 11:29:47.Plg Yth, sisa kuota Flash ...      1\n",
              "4  4.5GB/30 hari hanya Rp 55 Ribu Spesial buat an...      1"
            ]
          },
          "execution_count": 20,
          "metadata": {},
          "output_type": "execute_result"
        }
      ],
      "source": [
        "df.head()"
      ]
    },
    {
      "cell_type": "markdown",
      "metadata": {
        "id": "qsgqRj_zxt5a"
      },
      "source": [
        "## Dataset Spliting"
      ]
    },
    {
      "cell_type": "code",
      "execution_count": 28,
      "metadata": {
        "colab": {
          "base_uri": "https://localhost:8080/"
        },
        "id": "1vH2gVmntcmW",
        "outputId": "97a57dce-13bd-4789-e277-d53e89c787b5"
      },
      "outputs": [
        {
          "data": {
            "text/plain": [
              "((914,), (229,), (914,), (229,))"
            ]
          },
          "execution_count": 28,
          "metadata": {},
          "output_type": "execute_result"
        }
      ],
      "source": [
        "from sklearn.model_selection import train_test_split\n",
        "\n",
        "X = df.Teks\n",
        "y = df.label\n",
        "\n",
        "X_train, X_test, y_train, y_test = train_test_split(X, y, test_size=0.2, stratify=y, random_state=42)\n",
        "X_train.shape, X_test.shape, y_train.shape, y_test.shape"
      ]
    },
    {
      "cell_type": "markdown",
      "metadata": {
        "id": "qaMj0as8xyFC"
      },
      "source": [
        "## Preprocessing"
      ]
    },
    {
      "cell_type": "code",
      "execution_count": 29,
      "metadata": {
        "id": "96BAlyk9uAQw"
      },
      "outputs": [],
      "source": [
        "# pip install jcopml\n",
        "from sklearn.pipeline import Pipeline\n",
        "from sklearn.compose import ColumnTransformer\n",
        "from jcopml.pipeline import num_pipe, cat_pipe\n",
        "from sklearn.linear_model import LogisticRegression\n",
        "\n",
        "from sklearn.feature_extraction.text import TfidfVectorizer\n",
        "\n",
        "\n",
        "pipeline = Pipeline([\n",
        "    ('prep', TfidfVectorizer(tokenizer=word_tokenize, stop_words=sw_indo)),\n",
        "    ('algo', LogisticRegression(solver='lbfgs', n_jobs=-1, random_state=42))\n",
        "\n",
        "    ])"
      ]
    },
    {
      "cell_type": "markdown",
      "metadata": {
        "id": "arxWu4tYx1Oy"
      },
      "source": [
        "Metode yang berbeda diterapkan pada data yang tidak terstruktur, dimana tidak ada data numerik. Sehingga, pipa numerik tidak dibuat. Sebagai gantinya dibuat pipa untuk `Tfidf`, yaitu adalah pembobotan yang digunakan untuk kalimat. Disini jenis kalimat adalah Indonesia, karena telah kita buat mengguakan `sw_indo`"
      ]
    },
    {
      "cell_type": "code",
      "execution_count": null,
      "metadata": {
        "colab": {
          "base_uri": "https://localhost:8080/"
        },
        "id": "6d1YJlDnupfR",
        "outputId": "fd9fea3c-0ad8-40df-8971-b28835af2727"
      },
      "outputs": [],
      "source": [
        "from sklearn.model_selection import RandomizedSearchCV\n",
        "from jcopml.tuning import random_search_params as rsp\n",
        "\n",
        "model = RandomizedSearchCV(pipeline, rsp.logreg_params, cv=3, n_jobs=-1, verbose=1, n_iter=50)\n",
        "model.fit(X_train, y_train)\n",
        "\n",
        "print(model.best_params_)\n",
        "print(model.score(X_train, y_train), model.best_score_, model.score(X_test, y_test))"
      ]
    },
    {
      "cell_type": "markdown",
      "metadata": {
        "id": "XhzX8uYTyYvU"
      },
      "source": [
        "## Evaluasi Model"
      ]
    },
    {
      "cell_type": "code",
      "execution_count": 14,
      "metadata": {
        "colab": {
          "base_uri": "https://localhost:8080/",
          "height": 354
        },
        "id": "kRlWA3yluupi",
        "outputId": "eb982358-c0d3-4e5b-d837-7b8895f7c2b3"
      },
      "outputs": [
        {
          "data": {
            "image/png": "[encoded data removed]",
            "text/plain": [
              "<Figure size 1100x500 with 2 Axes>"
            ]
          },
          "metadata": {},
          "output_type": "display_data"
        }
      ],
      "source": [
        "from jcopml.plot import plot_confusion_matrix\n",
        "\n",
        "plot_confusion_matrix(X_train, y_train, X_test, y_test, model)"
      ]
    },
    {
      "cell_type": "markdown",
      "metadata": {
        "id": "5d9wMVE3ylLq"
      },
      "source": [
        "Model memprediksi mana sms yang spam dan mana yang tidak secara baik"
      ]
    },
    {
      "cell_type": "code",
      "execution_count": 15,
      "metadata": {},
      "outputs": [],
      "source": [
        "import pickle\n",
        "\n",
        "# Simpan model ke file pkl\n",
        "with open('model.pkl', 'wb') as file:\n",
        "    pickle.dump(model, file)\n"
      ]
    },
    {
      "cell_type": "markdown",
      "metadata": {
        "id": "h9pvQNBqys0B"
      },
      "source": [
        "## Contoh Prediksi"
      ]
    },
    {
      "cell_type": "code",
      "execution_count": null,
      "metadata": {
        "colab": {
          "base_uri": "https://localhost:8080/"
        },
        "id": "E5EwsUVmvjy_",
        "outputId": "611e8b74-a6f2-45c0-c7fd-4166b7c8fb10"
      },
      "outputs": [
        {
          "data": {
            "text/plain": [
              "(array([1]), array([[0.14081308, 0.85918692]]))"
            ]
          },
          "execution_count": 14,
          "metadata": {
            "tags": []
          },
          "output_type": "execute_result"
        }
      ],
      "source": [
        "text1 = [\"VIP IFLIX - MAXstream telah aktif hingga 03/03/2021 utk nonton Magic Hour, The Flash, K-Drama. Login dg nomor hp **903447 di http://bit.ly/tselXiflix. CS: support+IDiflix.com / 188\"]\n",
        "\n",
        "model.predict(text1), model.predict_proba(text1)"
      ]
    },
    {
      "cell_type": "markdown",
      "metadata": {
        "id": "FF17Egc4yxhm"
      },
      "source": [
        "Pada text1, model memprediksi dengan benar jika pesan tersebut adalah `SPAM (1)`. Dengan perbandingan probabilitas adalah `86% SPAM, dan 14% BUKAN SPAM`"
      ]
    },
    {
      "cell_type": "code",
      "execution_count": null,
      "metadata": {
        "colab": {
          "base_uri": "https://localhost:8080/"
        },
        "id": "TzorTgmxvx5z",
        "outputId": "18669364-cd9f-4677-ea1d-9a357cd76d61"
      },
      "outputs": [
        {
          "data": {
            "text/plain": [
              "(array([0]), array([[0.63194307, 0.36805693]]))"
            ]
          },
          "execution_count": 15,
          "metadata": {
            "tags": []
          },
          "output_type": "execute_result"
        }
      ],
      "source": [
        "text2 = [\"jadi saya tidak bisa absen pak, apakah boleh absen manual pak ?\"]\n",
        "\n",
        "model.predict(text2), model.predict_proba(text2)"
      ]
    },
    {
      "cell_type": "markdown",
      "metadata": {
        "id": "dwAQwEnhzRbE"
      },
      "source": [
        "Pada text2, model memprediksi dengan benar jika pesan tersebut adalah `BUKAN SPAM (0)`. Dengan perbandingan probabilitas adalah `37% SPAM, dan 63% BUKAN SPAM`"
      ]
    }
  ],
  "metadata": {
    "colab": {
      "provenance": []
    },
    "kernelspec": {
      "display_name": "Python 3",
      "name": "python3"
    },
    "language_info": {
      "codemirror_mode": {
        "name": "ipython",
        "version": 3
      },
      "file_extension": ".py",
      "mimetype": "text/x-python",
      "name": "python",
      "nbconvert_exporter": "python",
      "pygments_lexer": "ipython3",
      "version": "3.11.7"
    }
  },
  "nbformat": 4,
  "nbformat_minor": 0
}
